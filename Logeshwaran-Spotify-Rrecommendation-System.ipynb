{
  "cells": [
    {
      "cell_type": "code",
      "execution_count": null,
      "id": "4daae653",
      "metadata": {
        "id": "4daae653"
      },
      "outputs": [],
      "source": [
        "import os\n",
        "import numpy as np\n",
        "import pandas as pd"
      ]
    },
    {
      "cell_type": "code",
      "execution_count": null,
      "id": "c0dafaf6",
      "metadata": {
        "id": "c0dafaf6"
      },
      "outputs": [],
      "source": [
        "import seaborn as sns\n",
        "import plotly.express as px\n",
        "import matplotlib.pyplot as plt\n",
        "%matplotlib inline"
      ]
    },
    {
      "cell_type": "code",
      "execution_count": null,
      "id": "6486f2d4",
      "metadata": {
        "id": "6486f2d4"
      },
      "outputs": [],
      "source": [
        "from sklearn.cluster import KMeans\n",
        "from sklearn.preprocessing import StandardScaler\n",
        "from sklearn.pipeline import Pipeline\n",
        "from sklearn.manifold import TSNE\n",
        "from sklearn.decomposition import PCA\n",
        "from sklearn.metrics import euclidean_distances\n",
        "from scipy.spatial.distance import cdist\n",
        "\n",
        "import warnings\n",
        "warnings.filterwarnings(\"ignore\")"
      ]
    },
    {
      "cell_type": "code",
      "execution_count": null,
      "id": "406dd195",
      "metadata": {
        "id": "406dd195"
      },
      "outputs": [],
      "source": [
        "data = pd.read_csv(\"~/Downloads/data.csv\")\n",
        "genre_data = pd.read_csv('~/Downloads/data_by_genres.csv')\n",
        "year_data = pd.read_csv('~/Downloads/data_by_year.csv')"
      ]
    },
    {
      "cell_type": "code",
      "execution_count": null,
      "id": "821d36b8",
      "metadata": {
        "id": "821d36b8"
      },
      "outputs": [],
      "source": [
        "print(data.info())"
      ]
    },
    {
      "cell_type": "code",
      "execution_count": null,
      "id": "dcf10b9d",
      "metadata": {
        "id": "dcf10b9d"
      },
      "outputs": [],
      "source": [
        "print(genre_data.info())"
      ]
    },
    {
      "cell_type": "code",
      "execution_count": null,
      "id": "5b05b98a",
      "metadata": {
        "id": "5b05b98a"
      },
      "outputs": [],
      "source": [
        "print(year_data.info())"
      ]
    },
    {
      "cell_type": "code",
      "execution_count": null,
      "id": "28cd4431",
      "metadata": {
        "id": "28cd4431"
      },
      "outputs": [],
      "source": [
        "pip install yellowbrick"
      ]
    },
    {
      "cell_type": "code",
      "execution_count": null,
      "id": "e7238bd9",
      "metadata": {
        "id": "e7238bd9"
      },
      "outputs": [],
      "source": [
        "from yellowbrick.target import FeatureCorrelation\n",
        "\n",
        "feature_names = ['acousticness', 'danceability', 'energy', 'instrumentalness',\n",
        "       'liveness', 'loudness', 'speechiness', 'tempo', 'valence','duration_ms','explicit','key','mode','year']\n",
        "\n",
        "X, y = data[feature_names], data['popularity']\n",
        "\n",
        "# Create a list of the feature names\n",
        "features = np.array(feature_names)\n",
        "\n",
        "# Instantiate the visualizer\n",
        "visualizer = FeatureCorrelation(labels=features)\n",
        "\n",
        "plt.rcParams['figure.figsize']=(20,20)\n",
        "visualizer.fit(X, y)     # Fit the data to the visualizer\n",
        "visualizer.show()"
      ]
    },
    {
      "cell_type": "code",
      "execution_count": null,
      "id": "f1b05408",
      "metadata": {
        "id": "f1b05408"
      },
      "outputs": [],
      "source": [
        "def get_decade(year):\n",
        "    period_start = int(year/10) * 10\n",
        "    decade = '{}s'.format(period_start)\n",
        "    return decade\n",
        "\n",
        "data['decade'] = data['year'].apply(get_decade)\n",
        "\n",
        "sns.set(rc={'figure.figsize':(11 ,6)})\n",
        "sns.countplot(data['decade'])"
      ]
    },
    {
      "cell_type": "code",
      "execution_count": null,
      "id": "bd2d23d3",
      "metadata": {
        "id": "bd2d23d3"
      },
      "outputs": [],
      "source": [
        "sound_features = ['acousticness', 'danceability', 'energy', 'instrumentalness', 'liveness', 'valence']\n",
        "fig = px.line(year_data, x='year', y=sound_features)\n",
        "fig.show()"
      ]
    },
    {
      "cell_type": "code",
      "execution_count": null,
      "id": "bc4eee41",
      "metadata": {
        "id": "bc4eee41"
      },
      "outputs": [],
      "source": [
        "top10_genres = genre_data.nlargest(10, 'popularity')\n",
        "\n",
        "fig = px.bar(top10_genres, x='genres', y=['valence', 'energy', 'danceability', 'acousticness'], barmode='group')\n",
        "fig.show()"
      ]
    },
    {
      "cell_type": "code",
      "execution_count": null,
      "id": "da5135f9",
      "metadata": {
        "id": "da5135f9"
      },
      "outputs": [],
      "source": [
        "from sklearn.cluster import KMeans\n",
        "from sklearn.preprocessing import StandardScaler\n",
        "from sklearn.pipeline import Pipeline\n",
        "\n",
        "cluster_pipeline = Pipeline([('scaler', StandardScaler()), ('kmeans', KMeans(n_clusters=10))])\n",
        "X = genre_data.select_dtypes(np.number)\n",
        "cluster_pipeline.fit(X)\n",
        "genre_data['cluster'] = cluster_pipeline.predict(X)"
      ]
    },
    {
      "cell_type": "code",
      "execution_count": null,
      "id": "25368554",
      "metadata": {
        "id": "25368554"
      },
      "outputs": [],
      "source": [
        "pip install --upgrade scikit-learn"
      ]
    },
    {
      "cell_type": "code",
      "execution_count": null,
      "id": "56c0199a",
      "metadata": {
        "id": "56c0199a"
      },
      "outputs": [],
      "source": [
        "pip install threadpoolctl==3.1.0"
      ]
    },
    {
      "cell_type": "code",
      "execution_count": null,
      "id": "69ff9061",
      "metadata": {
        "id": "69ff9061"
      },
      "outputs": [],
      "source": [
        "\n",
        "from sklearn.manifold import TSNE\n",
        "\n",
        "tsne_pipeline = Pipeline([('scaler', StandardScaler()), ('tsne', TSNE(n_components=2, verbose=1))])\n",
        "genre_embedding = tsne_pipeline.fit_transform(X)\n",
        "projection = pd.DataFrame(columns=['x', 'y'], data=genre_embedding)\n",
        "projection['genres'] = genre_data['genres']\n",
        "projection['cluster'] = genre_data['cluster']\n",
        "\n",
        "fig = px.scatter(\n",
        "    projection, x='x', y='y', color='cluster', hover_data=['x', 'y', 'genres'])\n",
        "fig.show()"
      ]
    },
    {
      "cell_type": "code",
      "execution_count": null,
      "id": "4527befc",
      "metadata": {
        "id": "4527befc"
      },
      "outputs": [],
      "source": [
        "song_cluster_pipeline = Pipeline([('scaler', StandardScaler()),\n",
        "                                  ('kmeans', KMeans(n_clusters=20,\n",
        "                                   verbose=False))\n",
        "                                 ], verbose=False)\n",
        "\n",
        "X = data.select_dtypes(np.number)\n",
        "number_cols = list(X.columns)\n",
        "song_cluster_pipeline.fit(X)\n",
        "song_cluster_labels = song_cluster_pipeline.predict(X)\n",
        "data['cluster_label'] = song_cluster_labels"
      ]
    },
    {
      "cell_type": "code",
      "execution_count": null,
      "id": "d80b4a32",
      "metadata": {
        "id": "d80b4a32"
      },
      "outputs": [],
      "source": [
        "\n",
        "from sklearn.decomposition import PCA\n",
        "\n",
        "pca_pipeline = Pipeline([('scaler', StandardScaler()), ('PCA', PCA(n_components=2))])\n",
        "song_embedding = pca_pipeline.fit_transform(X)\n",
        "projection = pd.DataFrame(columns=['x', 'y'], data=song_embedding)\n",
        "projection['title'] = data['name']\n",
        "projection['cluster'] = data['cluster_label']\n",
        "\n",
        "fig = px.scatter(\n",
        "    projection, x='x', y='y', color='cluster', hover_data=['x', 'y', 'title'])\n",
        "fig.show()"
      ]
    },
    {
      "cell_type": "code",
      "execution_count": null,
      "id": "ac74d595",
      "metadata": {
        "id": "ac74d595"
      },
      "outputs": [],
      "source": [
        "!pip install spotipy"
      ]
    },
    {
      "cell_type": "code",
      "execution_count": null,
      "id": "37d23c05",
      "metadata": {
        "id": "37d23c05"
      },
      "outputs": [],
      "source": [
        "import spotipy\n",
        "from spotipy.oauth2 import SpotifyClientCredentials\n",
        "from collections import defaultdict\n",
        "\n",
        "sp = spotipy.Spotify(auth_manager=SpotifyClientCredentials(client_id=os.environ[\"SPOTIFY_CLIENT_ID\"],\n",
        "                                                           client_secret=os.environ[\"SPOTIFY_CLIENT_SECRET\"]))\n",
        "\n",
        "def find_song(name, year):\n",
        "    song_data = defaultdict()\n",
        "    results = sp.search(q= 'track: {} year: {}'.format(name,year), limit=1)\n",
        "    if results['tracks']['items'] == []:\n",
        "        return None\n",
        "\n",
        "    results = results['tracks']['items'][0]\n",
        "    track_id = results['id']\n",
        "    audio_features = sp.audio_features(track_id)[0]\n",
        "\n",
        "    song_data['name'] = [name]\n",
        "    song_data['year'] = [year]\n",
        "    song_data['explicit'] = [int(results['explicit'])]\n",
        "    song_data['duration_ms'] = [results['duration_ms']]\n",
        "    song_data['popularity'] = [results['popularity']]\n",
        "\n",
        "    for key, value in audio_features.items():\n",
        "        song_data[key] = value\n",
        "\n",
        "    return pd.DataFrame(song_data)"
      ]
    },
    {
      "cell_type": "code",
      "execution_count": null,
      "id": "2d91b3fa",
      "metadata": {
        "id": "2d91b3fa"
      },
      "outputs": [],
      "source": [
        "from collections import defaultdict\n",
        "from sklearn.metrics import euclidean_distances\n",
        "from scipy.spatial.distance import cdist\n",
        "import difflib\n",
        "\n",
        "number_cols = ['valence', 'year', 'acousticness', 'danceability', 'duration_ms', 'energy', 'explicit',\n",
        " 'instrumentalness', 'key', 'liveness', 'loudness', 'mode', 'popularity', 'speechiness', 'tempo']\n",
        "\n",
        "\n",
        "def get_song_data(song, spotify_data):\n",
        "\n",
        "    try:\n",
        "        song_data = spotify_data[(spotify_data['name'] == song['name'])\n",
        "                                & (spotify_data['year'] == song['year'])].iloc[0]\n",
        "        return song_data\n",
        "\n",
        "    except IndexError:\n",
        "        return find_song(song['name'], song['year'])\n",
        "\n",
        "\n",
        "def get_mean_vector(song_list, spotify_data):\n",
        "\n",
        "    song_vectors = []\n",
        "\n",
        "    for song in song_list:\n",
        "        song_data = get_song_data(song, spotify_data)\n",
        "        if song_data is None:\n",
        "            print('Warning: {} does not exist in Spotify or in database'.format(song['name']))\n",
        "            continue\n",
        "        song_vector = song_data[number_cols].values\n",
        "        song_vectors.append(song_vector)\n",
        "\n",
        "    song_matrix = np.array(list(song_vectors))\n",
        "    return np.mean(song_matrix, axis=0)\n",
        "\n",
        "\n",
        "def flatten_dict_list(dict_list):\n",
        "\n",
        "    flattened_dict = defaultdict()\n",
        "    for key in dict_list[0].keys():\n",
        "        flattened_dict[key] = []\n",
        "\n",
        "    for dictionary in dict_list:\n",
        "        for key, value in dictionary.items():\n",
        "            flattened_dict[key].append(value)\n",
        "\n",
        "    return flattened_dict\n",
        "\n",
        "\n",
        "def recommend_songs( song_list, spotify_data, n_songs=10):\n",
        "\n",
        "    metadata_cols = ['name', 'year', 'artists']\n",
        "    song_dict = flatten_dict_list(song_list)\n",
        "\n",
        "    song_center = get_mean_vector(song_list, spotify_data)\n",
        "    scaler = song_cluster_pipeline.steps[0][1]\n",
        "    scaled_data = scaler.transform(spotify_data[number_cols])\n",
        "    scaled_song_center = scaler.transform(song_center.reshape(1, -1))\n",
        "    distances = cdist(scaled_song_center, scaled_data, 'cosine')\n",
        "    index = list(np.argsort(distances)[:, :n_songs][0])\n",
        "\n",
        "    rec_songs = spotify_data.iloc[index]\n",
        "    rec_songs = rec_songs[~rec_songs['name'].isin(song_dict['name'])]\n",
        "    return rec_songs[metadata_cols].to_dict(orient='records')"
      ]
    },
    {
      "cell_type": "code",
      "execution_count": null,
      "id": "ae976cfc",
      "metadata": {
        "id": "ae976cfc"
      },
      "outputs": [],
      "source": [
        "recommend_songs([{'name': 'Come As You Are', 'year':1991},\n",
        "                {'name': 'Smells Like Teen Spirit', 'year': 1991},\n",
        "                {'name': 'Lithium', 'year': 1992},\n",
        "                {'name': 'All Apologies', 'year': 1993},\n",
        "                {'name': 'Stay Away', 'year': 1993}],  data)"
      ]
    },
    {
      "cell_type": "code",
      "execution_count": null,
      "id": "d5c6f58c",
      "metadata": {
        "id": "d5c6f58c"
      },
      "outputs": [],
      "source": [
        " [{'name': 'Life is a Highway - From \"Cars\"',\n",
        "  'year': 2009,\n",
        "  'artists': \"['Rascal Flatts']\"},\n",
        " {'name': 'Of Wolf And Man', 'year': 1991, 'artists': \"['Metallica']\"},\n",
        " {'name': 'Somebody Like You', 'year': 2002, 'artists': \"['Keith Urban']\"},\n",
        " {'name': 'Kayleigh', 'year': 1992, 'artists': \"['Marillion']\"},\n",
        " {'name': 'Little Secrets', 'year': 2009, 'artists': \"['Passion Pit']\"},\n",
        " {'name': 'No Excuses', 'year': 1994, 'artists': \"['Alice In Chains']\"},\n",
        " {'name': 'Corazón Mágico', 'year': 1995, 'artists': \"['Los Fugitivos']\"},\n",
        " {'name': 'If Today Was Your Last Day',\n",
        "  'year': 2008,\n",
        "  'artists': \"['Nickelback']\"},\n",
        " {'name': \"Let's Get Rocked\", 'year': 1992, 'artists': \"['Def Leppard']\"},\n",
        " {'name': \"Breakfast At Tiffany's\",\n",
        "  'year': 1995,\n",
        "  'artists': \"['Deep Blue Something']\"}]"
      ]
    }
  ],
  "metadata": {
    "kernelspec": {
      "display_name": "Python 3 (ipykernel)",
      "language": "python",
      "name": "python3"
    },
    "language_info": {
      "codemirror_mode": {
        "name": "ipython",
        "version": 3
      },
      "file_extension": ".py",
      "mimetype": "text/x-python",
      "name": "python",
      "nbconvert_exporter": "python",
      "pygments_lexer": "ipython3",
      "version": "3.9.13"
    },
    "colab": {
      "provenance": []
    }
  },
  "nbformat": 4,
  "nbformat_minor": 5
}